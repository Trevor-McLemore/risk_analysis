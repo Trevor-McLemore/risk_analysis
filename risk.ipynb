{
 "cells": [
  {
   "cell_type": "code",
   "execution_count": 103,
   "metadata": {},
   "outputs": [],
   "source": [
    "import numpy as np\n",
    "import pandas as pd\n",
    "import scipy.stats as stats\n",
    "from itertools import product\n",
    "import networkx as nx\n",
    "from networkx.algorithms import community\n",
    "import nxpd\n",
    "from random import shuffle\n",
    "\n",
    "import matplotlib.pyplot as plt\n",
    "from matplotlib.ticker import PercentFormatter\n",
    "import seaborn as sns\n",
    "plt.style.use('seaborn-dark-palette')\n",
    "%matplotlib inline"
   ]
  },
  {
   "cell_type": "markdown",
   "metadata": {},
   "source": [
    "### V2 plan to expand from 3 to 6 element character profiles\n",
    "5 element character profiles: ia3321<br>\n",
    "1st num is min front defenders<br>\n",
    "2nd num is necessary troop overage for attack<br>\n",
    "3rd num is how much the attacker fortifies one attack before looking at the next<br>\n",
    "4th num is player identifier<br>\n",
    "adjust w in troop placement and reinforcements, adjust y and z in attack\n"
   ]
  },
  {
   "cell_type": "code",
   "execution_count": 3,
   "metadata": {
    "scrolled": false
   },
   "outputs": [],
   "source": [
    "# This block contains all the static information necessary for the risk game and creates the graph. \n",
    "\n",
    "# adjacent nodes, posits, territory, continent, continent color, card suit\n",
    "g = {\n",
    "    0: [[1,2,37],(1,13.2),'alaska','n_america','khaki','infantry'],\n",
    "    1: [[0,2,6,12],(2.5,12.2),'northwest territory','n_america','khaki','cannon'],\n",
    "    2: [[0,1,3,6],(2.4,10.9),'alberta','n_america','khaki','cavalry'],\n",
    "    3: [[2,4,5,6],(2.6,9),'western united states','n_america','khaki','cannon'],\n",
    "    4: [[3,5,7],(2.7,7),'central america','n_america','khaki','cannon'],\n",
    "    5: [[3,4,6,11],(3.4,8.5),'eastern united states','n_america','khaki','cannon'],\n",
    "    6: [[1,2,3,5,11,12],(3.4,10.7),'ontario','n_america','khaki','cavalry'],\n",
    "    7: [[4,8,10],(3.8,5.6),'venezuela','s_america','darkorange','infantry'],\n",
    "    8: [[7,9,10],(3.9,4),'peru','s_america','darkorange','infantry'],\n",
    "    9: [[8,10],(4.1,1.8),'argentina','s_america','darkorange','infantry'],\n",
    "    10: [[7,8,9,16],(4.8,4.2),'brazil','s_america','darkorange','cannon'],\n",
    "    11: [[5,6,12],(4.4,10.5),'quebec','n_america','khaki','cavalry'],\n",
    "    12: [[1,6,11,15],(5.2,12.4),'greenland','n_america','khaki','cavalry'],\n",
    "    13: [[14,15,17,19],(6.1,9.6),'great britain','europe','cornflowerblue','cannon'],\n",
    "    14: [[13,16,17,18],(6.4,7.5),'western europe','europe','cornflowerblue','cannon'],\n",
    "    15: [[12,13,19],(6.2,11.3),'iceland','europe','cornflowerblue','infantry'],\n",
    "    16: [[14,18,20,21,25],(7,5),'north africa','africa','saddlebrown','cavalry'],\n",
    "    17: [[13,14,18,19,23],(7.2,9.1),'northern europe','europe','cornflowerblue','cannon'],\n",
    "    18: [[14,16,17,20,23,24],(7.4,7.9),'southern europe', 'europe','cornflowerblue','cannon'],\n",
    "    19: [[13,15,17,23],(7.5,11.5),'scandinavia','europe','cornflowerblue','cavalry'],\n",
    "    20: [[16,18,24,25],(7.9,5.6),'egypt','africa','saddlebrown','infantry'],\n",
    "    21: [[16,22,25],(7.8,3),'congo','africa','saddlebrown','infantry'],\n",
    "    22: [[21,25,26],(8,1.1),'south africa','africa','saddlebrown','cannon'],\n",
    "    23: [[17,18,19,24,27,28],(8.8,10),'ukraine','europe','cornflowerblue','cavalry'],\n",
    "    24: [[18,20,23,25,27,29],(9,6),'middle east','asia','seagreen','infantry'],\n",
    "    25: [[16,20,21,22,24,26],(8.5,3.8),'east africa','africa','saddlebrown','infantry'],\n",
    "    26: [[22,25],(9.1,1.2),'madagascar','africa','saddlebrown','cavalry'],\n",
    "    27: [[23,24,28,29,31],(9.8,8.6),'afghanistan','asia','seagreen','cavalry'],\n",
    "    28: [[23,27,30,31],(10.1,11),'ural','asia','seagreen','cavalry'],\n",
    "    29: [[24,27,31,36],(10.5,6.2),'india','asia','seagreen','cavalry'],\n",
    "    30: [[28,31,32,33,34],(10.9,12),'siberia','asia','seagreen','cavalry'],\n",
    "    31: [[27,28,29,30,33,36],(11.4,7.5),'china','asia','seagreen','infantry'],\n",
    "    32: [[30,33,34,37],(11.7,10.8),'irkutsk','asia','seagreen','cavalry'],\n",
    "    33: [[30,31,32,37,40],(11.9,9.1),'mongolia','asia','seagreen','infantry'],\n",
    "    34: [[30,32,37],(11.9,12.5),'yakutsk','asia','seagreen','cavalry'],\n",
    "    35: [[36,38,39],(11.9,3.1),'indonesia','australia','mediumvioletred','cannon'],\n",
    "    36: [[29,31,35],(11.6,5.6),'siam','asia','seagreen','infantry'],\n",
    "    37: [[0,32,33,34,40],(12.9,13.2),'kamchatka','asia','seagreen','infantry'],\n",
    "    38: [[35,39,41],(12.4,1.2),'western australia','australia','mediumvioletred','cannon'],\n",
    "    39: [[35,38,41],(13,3.9),'new guinea','australia','mediumvioletred','infantry'],\n",
    "    40: [[33,37],(13.1,9),'japan','asia','seagreen','cannon'],\n",
    "    41: [[38,39],(13.3,1.6),'eastern australia','australia','mediumvioletred','cannon']}\n",
    "\n",
    "# create the graph\n",
    "g_adj = {k : v[0] for k,v in g.items()}\n",
    "G = nx.from_dict_of_lists(g_adj)\n",
    "\n",
    "# makes straightforward dictionaries for easier code, faster, and plug into visualizations\n",
    "val_eq_key = {k : k for k in g}\n",
    "pos = {k : v[1] for k,v in g.items()}\n",
    "territories = {k : v[2] for k,v in g.items()}\n",
    "continents = {k : v[3] for k,v in g.items()}\n",
    "colr = {k : v[4] for k,v in g.items()}\n",
    "suit = {k : v[5] for k,v in g.items()}\n",
    "degrees = {deg[0]:deg[1] for deg in G.degree}\n",
    "\n",
    "# creates static dictionary of cards in deck (key is node, value is list with territory[0] and suit[1])\n",
    "cards = {k : [v[2] , v[5]] for k,v in g.items()}\n",
    "cards[42] = ['wild','wild']\n",
    "cards[43] = ['wild','wild']\n",
    "\n",
    "# create attribute dictionary\n",
    "# key is node, value is list with normalized degree, cluster coefficient, and continent\n",
    "norm_degree_list = [round(v/max(degrees.values()),3) for v in degrees.values()]\n",
    "cluster_values = [round(v,3) for v in nx.clustering(G).values()]\n",
    "vals = [[nd, cv] for nd,cv in zip(norm_degree_list,cluster_values)]\n",
    "cluster_dict = dict(zip(range(42),vals))\n",
    "att_dict = {k : cluster_dict[k] + [v] for k,v in continents.items()}\n",
    "\n",
    "# nx.average_neighbor_degree(G) --- possible attribute to use instead of clustering coefficient\n",
    "\n",
    "# creating country selection strategies\n",
    "# takes a attribute dictionary, flattens it, sorts it, returns sorted nodes\n",
    "\n",
    "# isolationist. minimizes degrees, maximizes cluster coefficient.\n",
    "i0 = sorted(([k]+v for k,v in att_dict.items()), key=lambda x: x[2], reverse=True)\n",
    "i1 = sorted(i0, key=lambda x: x[1])\n",
    "i2 = [x[0] for x in i1]\n",
    "\n",
    "# network. maximizes degrees, minimizes cluster coefficient. \n",
    "n0 = sorted(([k]+v for k,v in att_dict.items()), key=lambda x: x[2])\n",
    "n1 = sorted(n0, key=lambda x: x[1], reverse=True)\n",
    "n2 = [x[0] for x in n1]\n",
    "\n",
    "# connecter. maximizes degrees, maximizes cluster coefficient.\n",
    "c0 = sorted(([k]+v for k,v in att_dict.items()), key=lambda x: x[2], reverse=True)\n",
    "c1 = sorted(c0, key=lambda x: x[1], reverse=True)\n",
    "c2 = [x[0] for x in c1]\n",
    "\n",
    "# united states. focuses on n_america, tie goes to lower degree\n",
    "u0 = sorted(([k]+v for k,v in att_dict.items()), key=lambda x: x[1])\n",
    "u1 = sorted([x[0:3] + [1] if x[3] == 'n_america' else x[0:3] + [0] for x in u0], key=lambda x: x[3], reverse=True)\n",
    "u2 = [x[0] for x in u1]\n",
    "\n",
    "# south america. focuses on s_america, tie goes to lower degree\n",
    "s0 = sorted(([k]+v for k,v in att_dict.items()), key=lambda x: x[1])\n",
    "s1 = sorted([x[0:3] + [1] if x[3] == 's_america' else x[0:3] + [0] for x in s0], key=lambda x: x[3], reverse=True)\n",
    "s2 = [x[0] for x in s1]\n",
    "\n",
    "# pacific islands. focuses on australia, tie goes to lower degree\n",
    "p0 = sorted(([k]+v for k,v in att_dict.items()), key=lambda x: x[1])\n",
    "p1 = sorted([x[0:3] + [1] if x[3] == 'australia' else x[0:3] + [0] for x in p0], key=lambda x: x[3], reverse=True)\n",
    "p2 = [x[0] for x in p1]\n",
    "\n",
    "# africa. focuses on africa, tie goes to lower degree\n",
    "f0 = sorted(([k]+v for k,v in att_dict.items()), key=lambda x: x[1])\n",
    "f1 = sorted([x[0:3] + [1] if x[3] == 'africa' else x[0:3] + [0] for x in f0], key=lambda x: x[3], reverse=True)\n",
    "f2 = [x[0] for x in f1]\n",
    "\n",
    "# europe. focuses on europe, tie goes to lower degree\n",
    "e0 = sorted(([k]+v for k,v in att_dict.items()), key=lambda x: x[1])\n",
    "e1 = sorted([x[0:3] + [1] if x[3] == 'europe' else x[0:3] + [0] for x in e0], key=lambda x: x[3], reverse=True)\n",
    "e2 = [x[0] for x in e1]\n",
    "\n",
    "# middle east. focuses on asia, tie goes to lower degree\n",
    "m0 = sorted(([k]+v for k,v in att_dict.items()), key=lambda x: x[1])\n",
    "m1 = sorted([x[0:3] + [1] if x[3] == 'asia' else x[0:3] + [0] for x in m0], key=lambda x: x[3], reverse=True)\n",
    "m2 = [x[0] for x in m1]"
   ]
  },
  {
   "cell_type": "code",
   "execution_count": 4,
   "metadata": {},
   "outputs": [],
   "source": [
    "# helper function for attrition(). created sorted lists of 6 sided dice rolls for comparison.\n",
    "def roll_and_sort(dice):\n",
    "    roll_list = []\n",
    "    for _ in range(dice):\n",
    "        roll_list.append(np.random.randint(1,7))\n",
    "    roll_list.sort(reverse=True)\n",
    "    return roll_list"
   ]
  },
  {
   "cell_type": "code",
   "execution_count": 5,
   "metadata": {},
   "outputs": [],
   "source": [
    "# work horse of the project. simulates combat with the dice rolled decreasing as troop numbers fall.\n",
    "def attrition(attackers, defenders):\n",
    "    while attackers >= 1 and defenders >= 1:\n",
    "        att_list = roll_and_sort(min([3,attackers]))\n",
    "        def_list = roll_and_sort(min([2,defenders]))\n",
    "        if attackers >= 2 and defenders >= 2:\n",
    "            if att_list[1] > def_list[1]:\n",
    "                defenders -= 1\n",
    "            else: attackers -= 1\n",
    "        if att_list[0] > def_list[0]:\n",
    "            defenders -= 1\n",
    "        else: attackers -= 1\n",
    "    return attackers, defenders"
   ]
  },
  {
   "cell_type": "code",
   "execution_count": 6,
   "metadata": {},
   "outputs": [],
   "source": [
    "# returns a dictionary with value as a list of nodes and continent keys\n",
    "def continents2():\n",
    "    cont_d = {}\n",
    "    continent_list = ['n_america','s_america','europe','africa','asia','australia']\n",
    "    for c in continent_list:\n",
    "        cont_d[c] = [k for k,v in g.items() if v[3] == c]\n",
    "    return cont_d"
   ]
  },
  {
   "cell_type": "code",
   "execution_count": 7,
   "metadata": {},
   "outputs": [],
   "source": [
    "# dictionary of the node and current troops at that node\n",
    "def current_troops():\n",
    "    return {x[0] : x[1]['troops'] for x in G.nodes.data()}\n",
    "# changes the troop count to an X for each troop\n",
    "def x_current_troops():\n",
    "    return {k : 'X'*v for k,v in current_troops().items()}\n",
    "# creates a list proportional to troop size to plug into node size on the visualization\n",
    "def ns_troop_var():\n",
    "    return [150*v for v in current_troops().values()]"
   ]
  },
  {
   "cell_type": "code",
   "execution_count": 8,
   "metadata": {},
   "outputs": [],
   "source": [
    "# used only to color the continents on the reference graph\n",
    "def player_colors():\n",
    "    color_list = []\n",
    "    for p in G.nodes.data():\n",
    "        if p[1]['player'][2] == '1': dot_color = 'lightskyblue'\n",
    "        elif p[1]['player'][2] == '2': dot_color = 'red'\n",
    "        elif p[1]['player'][2] == '3': dot_color = 'lightgreen'\n",
    "        elif p[1]['player'][2] == '4': dot_color = 'gray'\n",
    "        elif p[1]['player'][2] == '5': dot_color = 'yellow'\n",
    "        elif p[1]['player'][2] == '6': dot_color = 'pink'\n",
    "        color_list.append(dot_color)\n",
    "    return color_list"
   ]
  },
  {
   "cell_type": "markdown",
   "metadata": {},
   "source": [
    "1 is blue, 2 is red, 3 is green, 4 is grey, 5 is yellow, 6 is pink"
   ]
  },
  {
   "cell_type": "code",
   "execution_count": 131,
   "metadata": {},
   "outputs": [],
   "source": [
    "# plots a graph of the current status of the game with node size proportional to troops placed there\n",
    "# used to verify functions are working at each stage in the game\n",
    "def plot_game_graph():\n",
    "    plt.style.use('seaborn-white')\n",
    "    plt.figure(figsize=(14,9))\n",
    "    nx.draw_networkx(G, pos, node_size=ns_troop_var(), node_color=player_colors(), edge_color='dimgrey', \\\n",
    "                     style='dotted', labels=current_troops(), font_size=10, font_weight='bold')\n",
    "    \n",
    "#     usually the labels will be troop size which is given by: current_troops()"
   ]
  },
  {
   "cell_type": "code",
   "execution_count": 10,
   "metadata": {
    "scrolled": false
   },
   "outputs": [],
   "source": [
    "# reference graph to verify connecting nodes and continents visually\n",
    "def plot_node_graph():\n",
    "    plt.style.use('seaborn-white')\n",
    "    plt.figure(figsize=(14,9))\n",
    "    nx.draw_networkx(G, pos, node_color=colr.values(), edge_color='dimgrey', style='dotted', labels=val_eq_key, \\\n",
    "                     font_size=10, font_weight='bold')"
   ]
  },
  {
   "cell_type": "code",
   "execution_count": 11,
   "metadata": {},
   "outputs": [
    {
     "data": {
      "image/png": "[encoded data removed]",
      "text/plain": [
       "<Figure size 1008x648 with 1 Axes>"
      ]
     },
     "metadata": {},
     "output_type": "display_data"
    }
   ],
   "source": [
    "# makes a basic plot. basic plot shows the node numbering and is colored by continent\n",
    "plot_node_graph()"
   ]
  },
  {
   "cell_type": "markdown",
   "metadata": {},
   "source": [
    "# START OF GAME FUNCTIONS"
   ]
  },
  {
   "cell_type": "markdown",
   "metadata": {},
   "source": [
    "## 1.roll die to see who starts"
   ]
  },
  {
   "cell_type": "code",
   "execution_count": 12,
   "metadata": {},
   "outputs": [],
   "source": [
    "# picks a random player to start the game\n",
    "def roll_for_turn(players):\n",
    "    return np.random.choice(len(players))\n",
    "\n",
    "# creates a repeating list of the players\n",
    "def generate_turns(players):\n",
    "    return players * 1000"
   ]
  },
  {
   "cell_type": "markdown",
   "metadata": {},
   "source": [
    "## 2.select territories"
   ]
  },
  {
   "cell_type": "code",
   "execution_count": 51,
   "metadata": {
    "scrolled": true
   },
   "outputs": [
    {
     "data": {
      "text/plain": [
       "[0, 1, 2, 3, 4, 5, 6, 11, 12]"
      ]
     },
     "execution_count": 51,
     "metadata": {},
     "output_type": "execute_result"
    }
   ],
   "source": [
    "continents2()['n_america']"
   ]
  },
  {
   "cell_type": "code",
   "execution_count": 53,
   "metadata": {},
   "outputs": [
    {
     "name": "stdout",
     "output_type": "stream",
     "text": [
      "[0, 4, 11, 1, 2, 3, 5, 12, 6, 9, 26, 40, 41, 7, 8, 15, 21, 22, 34, 35, 36, 38, 39, 10, 13, 14, 19, 20, 28, 29, 32, 17, 27, 30, 33, 37, 16, 18, 23, 24, 25, 31]\n"
     ]
    }
   ],
   "source": [
    "print(u2)"
   ]
  },
  {
   "cell_type": "code",
   "execution_count": 60,
   "metadata": {},
   "outputs": [],
   "source": [
    "# selects territories for each player based on that player's strategy\n",
    "def select_territories(turn, turns):\n",
    "    available_territories = list(range(42))\n",
    "    for x in range(42): \n",
    "        G.nodes[x]['player'] = ''\n",
    "        G.nodes[x]['troops'] = 0\n",
    "    for p in turns[turn:42+turn]:\n",
    "        if p[0] == 'r':\n",
    "            num = np.random.choice(available_territories)\n",
    "        if p[0] == 'i':\n",
    "            num = [x for x in i2 if x in available_territories][0]\n",
    "        if p[0] == 'n':\n",
    "            num = [x for x in n2 if x in available_territories][0]\n",
    "        if p[0] == 'c':\n",
    "            num = [x for x in c2 if x in available_territories][0]\n",
    "            if friend_nodes(p):\n",
    "                cnodes = set([item for sublist in [[n for n in g_adj[f]] for f in friend_nodes(p)] \\\n",
    "                              for item in sublist])\n",
    "                possibles = [x for x in [c for c in cnodes if c not in friend_nodes(p)] \\\n",
    "                       if x in available_territories]\n",
    "                if possibles:\n",
    "                    num = possibles[0]\n",
    "# picks a continent from least to most edges and then picks connecting territories\n",
    "        if p[0] == 'u':\n",
    "            num = [x for x in u2 if x in available_territories][0]\n",
    "            if num not in continents2()['n_america']:\n",
    "                if friend_nodes(p):\n",
    "                    cnodes = set([item for sublist in [[n for n in g_adj[f]] for f in friend_nodes(p)] \\\n",
    "                                  for item in sublist])\n",
    "                    possibles = [x for x in [c for c in cnodes if c not in friend_nodes(p)] \\\n",
    "                           if x in available_territories]\n",
    "                    if possibles:\n",
    "                        num = possibles[0]\n",
    "        if p[0] == 's':\n",
    "            num = [x for x in s2 if x in available_territories][0]\n",
    "            if num not in continents2()['s_america']:\n",
    "                if friend_nodes(p):\n",
    "                    cnodes = set([item for sublist in [[n for n in g_adj[f]] for f in friend_nodes(p)] \\\n",
    "                                  for item in sublist])\n",
    "                    possibles = [x for x in [c for c in cnodes if c not in friend_nodes(p)] \\\n",
    "                           if x in available_territories]\n",
    "                    if possibles:\n",
    "                        num = possibles[0]\n",
    "        if p[0] == 'p':\n",
    "            num = [x for x in p2 if x in available_territories][0]\n",
    "            if num not in continents2()['australia']:\n",
    "                if friend_nodes(p):\n",
    "                    cnodes = set([item for sublist in [[n for n in g_adj[f]] for f in friend_nodes(p)] \\\n",
    "                                  for item in sublist])\n",
    "                    possibles = [x for x in [c for c in cnodes if c not in friend_nodes(p)] \\\n",
    "                           if x in available_territories]\n",
    "                    if possibles:\n",
    "                        num = possibles[0]\n",
    "        if p[0] == 'f':\n",
    "            num = [x for x in f2 if x in available_territories][0]\n",
    "            if num not in continents2()['africa']:\n",
    "                if friend_nodes(p):\n",
    "                    cnodes = set([item for sublist in [[n for n in g_adj[f]] for f in friend_nodes(p)] \\\n",
    "                                  for item in sublist])\n",
    "                    possibles = [x for x in [c for c in cnodes if c not in friend_nodes(p)] \\\n",
    "                           if x in available_territories]\n",
    "                    if possibles:\n",
    "                        num = possibles[0]\n",
    "        if p[0] == 'e':\n",
    "            num = [x for x in e2 if x in available_territories][0]\n",
    "            if num not in continents2()['europe']:\n",
    "                if friend_nodes(p):\n",
    "                    cnodes = set([item for sublist in [[n for n in g_adj[f]] for f in friend_nodes(p)] \\\n",
    "                                  for item in sublist])\n",
    "                    possibles = [x for x in [c for c in cnodes if c not in friend_nodes(p)] \\\n",
    "                           if x in available_territories]\n",
    "                    if possibles:\n",
    "                        num = possibles[0]\n",
    "        if p[0] == 'm':\n",
    "            num = [x for x in m2 if x in available_territories][0]\n",
    "            if num not in continents2()['asia']:\n",
    "                if friend_nodes(p):\n",
    "                    cnodes = set([item for sublist in [[n for n in g_adj[f]] for f in friend_nodes(p)] \\\n",
    "                                  for item in sublist])\n",
    "                    possibles = [x for x in [c for c in cnodes if c not in friend_nodes(p)] \\\n",
    "                           if x in available_territories]\n",
    "                    if possibles:\n",
    "                        num = possibles[0]\n",
    "    \n",
    "        G.nodes[num]['player'] = p\n",
    "        G.nodes[num]['troops'] = 1\n",
    "        available_territories.remove(num)"
   ]
  },
  {
   "cell_type": "markdown",
   "metadata": {},
   "source": [
    "## 3.place troops"
   ]
  },
  {
   "cell_type": "code",
   "execution_count": 14,
   "metadata": {},
   "outputs": [],
   "source": [
    "# friend_army returns node and troops for the player whose turn it is (list of lists)\n",
    "def friend_army(player):\n",
    "    return [[num, G.nodes[num]['troops']] for num in range(42) if G.nodes[num]['player'] == player]\n",
    "\n",
    "# enemy_army returns node and troops for all other players (list of lists)\n",
    "def enemy_army(player):\n",
    "    return [[num, G.nodes[num]['troops']] for num in range(42) if G.nodes[num]['player'] != player]\n",
    "\n",
    "# friend_nodes returns node list for the player whose turn it is (list)\n",
    "def friend_nodes(player):\n",
    "    return [num for num in range(42) if G.nodes[num]['player'] == player]\n",
    "\n",
    "# enemy_nodes returns node list for all other players (list)\n",
    "def enemy_nodes(player):\n",
    "    return [num for num in range(42) if G.nodes[num]['player'] != player]"
   ]
  },
  {
   "cell_type": "code",
   "execution_count": 15,
   "metadata": {},
   "outputs": [],
   "source": [
    "# returns friendly node, friendly defenders, potential enemy attackers as list of lists\n",
    "def def_troop_comparison(player):\n",
    "    enemy_troops = []\n",
    "    poten_attackers = []\n",
    "    for f in friend_nodes(player):\n",
    "        for n in g_adj[f]:\n",
    "            if n in enemy_nodes(player):\n",
    "                enemy_troops.append(G.nodes[n]['troops'] - 1)\n",
    "            else: continue\n",
    "        poten_attackers.append(sum(enemy_troops))\n",
    "        enemy_troops = []\n",
    "    \n",
    "    return [friend_army(player)[idx] + [v] for idx,v in enumerate(poten_attackers)]"
   ]
  },
  {
   "cell_type": "code",
   "execution_count": 16,
   "metadata": {},
   "outputs": [],
   "source": [
    "# returns enemy node, enemy defenders, potential friendly attackers as list of lists\n",
    "def off_troop_comparison(player):\n",
    "    friendly_troops = []\n",
    "    poten_attackers = []\n",
    "    for e in enemy_nodes(player):\n",
    "        for n in g_adj[e]:\n",
    "            if n in friend_nodes(player):\n",
    "                friendly_troops.append(G.nodes[n]['troops'] - 1)\n",
    "            else: continue\n",
    "        poten_attackers.append(sum(friendly_troops))\n",
    "        friendly_troops = []\n",
    "    \n",
    "    return [enemy_army(player)[idx] + [v] for idx,v in enumerate(poten_attackers)]"
   ]
  },
  {
   "cell_type": "code",
   "execution_count": 139,
   "metadata": {},
   "outputs": [],
   "source": [
    "# places troops for each player based on other players buildups and each player's strategy.\n",
    "def place_troops(players, turn, turns):\n",
    "    if len(players) == 2: extra_troops = 50\n",
    "    if len(players) == 3: extra_troops = 35\n",
    "    if len(players) == 4: extra_troops = 30\n",
    "    if len(players) == 5: extra_troops = 25\n",
    "    if len(players) == 6: extra_troops = 20\n",
    "        \n",
    "    w = 2\n",
    "    \n",
    "    for p in turns[turn + 42 : turn + len(players) * extra_troops]:\n",
    "        if p[1] == 'r':\n",
    "#             randomly selects from friendly territories\n",
    "            num = np.random.choice(friend_nodes(p))\n",
    "        if p[1] == 'd':\n",
    "#             randomly selects from most vulnerable nodes: (potential att - def)/(potential att + def)\n",
    "            vuln_list = [[x[0]] + [round((x[2] - x[1]) / (x[2] + x[1]),3)] for x in def_troop_comparison(p)]\n",
    "            s_vuln_list = sorted(vuln_list, key=lambda x: x[1], reverse=True)\n",
    "            most_vuln = [x[0] for x in s_vuln_list if x[1] == max(x[1] for x in s_vuln_list)]\n",
    "            if len(most_vuln) > 0:\n",
    "                num = np.random.choice(most_vuln)\n",
    "            else: num = np.random.choice(friend_nodes(p))\n",
    "#             if a front territory has troops less than w, bring them up to w\n",
    "            near_border = set([item for sublist in [g_adj[x] for x in enemy_nodes(p)] for item in sublist])\n",
    "            adj_to_enemy = [x for x in near_border if x in friend_nodes(p)]\n",
    "            shuffle(adj_to_enemy)\n",
    "            for n in adj_to_enemy:\n",
    "                if G.nodes[n]['troops'] < w:\n",
    "                    num = n            \n",
    "        if p[1] == 'a':           \n",
    "#             randomly selects friendly node with least troops adj to most vulnerable enemy territory\n",
    "            e_vuln_list = [[x[0]] + [round((x[2] - x[1]) / (x[2] + x[1]),3)] for x in off_troop_comparison(p)]\n",
    "            s_e_vuln_list = sorted(e_vuln_list, key=lambda x: x[1], reverse=True)\n",
    "            e_most_vuln = [x[0] for x in s_e_vuln_list if x[1] == max(x[1] for x in s_e_vuln_list)]\n",
    "            nodes_sur_e_vuln = set([item for sublist in [g_adj[x] for x in e_most_vuln] for item in sublist])\n",
    "            f_sup_nodes = [x for x in nodes_sur_e_vuln if x in friend_nodes(p)]\n",
    "            s_f_sup_nodes = sorted([[x[0]] + [x[1]['troops']] for x in G.nodes.data() if x[0] in f_sup_nodes], \\\n",
    "                                   key=lambda x: x[1])\n",
    "            best_att_sup = [x[0] for x in s_f_sup_nodes if x[1] == min(x[1] for x in s_f_sup_nodes)]\n",
    "            if len(best_att_sup) > 0:\n",
    "                num = np.random.choice(best_att_sup)\n",
    "            else: num = np.random.choice(friend_nodes(p))\n",
    "            #             if a front territory has troops less than w, bring them up to w\n",
    "            near_border = set([item for sublist in [g_adj[x] for x in enemy_nodes(p)] for item in sublist])\n",
    "            adj_to_enemy = [x for x in near_border if x in friend_nodes(p)]\n",
    "            shuffle(adj_to_enemy)\n",
    "            for n in adj_to_enemy:\n",
    "                if G.nodes[n]['troops'] < w:\n",
    "                    num = n            \n",
    "        \n",
    "        G.nodes[num]['troops'] += 1"
   ]
  },
  {
   "cell_type": "markdown",
   "metadata": {},
   "source": [
    "## 4.play"
   ]
  },
  {
   "cell_type": "markdown",
   "metadata": {},
   "source": [
    "while len([G.nodes[num]['player'] for num in range(42) if G.nodes[num]['player'] == turns[turn]]) < 42:"
   ]
  },
  {
   "cell_type": "markdown",
   "metadata": {},
   "source": [
    "## player turn"
   ]
  },
  {
   "cell_type": "code",
   "execution_count": 18,
   "metadata": {},
   "outputs": [],
   "source": [
    "# verify they have territories, if not, skip\n",
    "def check_defeat(player):\n",
    "    return len([G.nodes[num]['player'] for num in range(42) if G.nodes[num]['player'] == player]) < 1"
   ]
  },
  {
   "cell_type": "markdown",
   "metadata": {},
   "source": [
    "## calculate troops from territories, continents, cards"
   ]
  },
  {
   "cell_type": "code",
   "execution_count": 19,
   "metadata": {},
   "outputs": [],
   "source": [
    "def extra_troops(player):\n",
    "    return max([3,len([G.nodes[num]['player'] for num in range(42) if G.nodes[num]['player'] == player])//3])"
   ]
  },
  {
   "cell_type": "code",
   "execution_count": 20,
   "metadata": {},
   "outputs": [],
   "source": [
    "# define continents with territories\n",
    "def continent_bonus(player):\n",
    "#     continent_list = ['n_america','s_america','europe','africa','asia','australia']\n",
    "    bonus = 0\n",
    "    for k,v in continents2().items():\n",
    "        match_lst = [n for n in v if n in friend_nodes(player)]\n",
    "        if match_lst == v:\n",
    "            if k == 'n_america': bonus += 5\n",
    "            if k == 's_america': bonus += 2\n",
    "            if k == 'africa': bonus += 3\n",
    "            if k == 'asia': bonus += 7\n",
    "            if k == 'europe': bonus += 5\n",
    "            if k == 'australia': bonus += 2\n",
    "    return bonus"
   ]
  },
  {
   "cell_type": "markdown",
   "metadata": {},
   "source": [
    "## draw card at end of turn if player won territory"
   ]
  },
  {
   "cell_type": "markdown",
   "metadata": {},
   "source": [
    "draw card (random draw, no replacement)<br>\n",
    "store card with player<br>\n",
    "if player has 3 cannons, 3 infantry, 3 cavalry, or 1 of each<br>\n",
    "exchange cards (deduct cards, add troops)<br>\n",
    "if player conquers another player, take defeated players cards<br>\n",
    "reshuffle deck with all the cards not in players hands if the deck runs out"
   ]
  },
  {
   "cell_type": "code",
   "execution_count": 21,
   "metadata": {},
   "outputs": [],
   "source": [
    "# takes in past exchanges and returns the number of troops received for the next exchange\n",
    "def card_value(exchange):\n",
    "    if exchange <= 5:\n",
    "        return 2 * (exchange+1)\n",
    "    else:\n",
    "        return 5 * (exchange-3)\n",
    "    \n",
    "# If card exchanged where the player owns that territory they get an extra 2 in that territory (max 1 x per exchange)"
   ]
  },
  {
   "cell_type": "code",
   "execution_count": 119,
   "metadata": {},
   "outputs": [],
   "source": [
    "# shuffles a full deck and sets players hands to empty\n",
    "def new_deck(players):\n",
    "    deck = list(range(44))\n",
    "    hands = {}\n",
    "    for p in players:\n",
    "        hands[p] = []\n",
    "    return deck, hands"
   ]
  },
  {
   "cell_type": "code",
   "execution_count": 23,
   "metadata": {},
   "outputs": [],
   "source": [
    "# if the deck runs out, reshuffles remaining cards\n",
    "def shuf(hands):\n",
    "    cards_in_hands = set([item for sublist in [hands[hand] for hand in hands] for item in sublist])\n",
    "    deck = list(range(44))\n",
    "    if len(cards_in_hands):\n",
    "        for c in cards_in_hands:\n",
    "            deck.remove(c)\n",
    "    return deck"
   ]
  },
  {
   "cell_type": "code",
   "execution_count": 24,
   "metadata": {
    "scrolled": false
   },
   "outputs": [],
   "source": [
    "# draws card and puts it in the players hand; removes it from deck\n",
    "def draw_card(player, deck, hands):\n",
    "    if len(deck) == 0:\n",
    "        deck = shuf(hands)\n",
    "    draw = np.random.choice(deck)\n",
    "    deck.remove(draw)\n",
    "    hands[player] = hands[player] + [draw]\n",
    "    return deck"
   ]
  },
  {
   "cell_type": "code",
   "execution_count": 25,
   "metadata": {
    "scrolled": false
   },
   "outputs": [],
   "source": [
    "# checks hand for sets, deduct sets, increments exchanges; returns bonus troops\n",
    "def exch_cards(player, next_exch, hands):\n",
    "    wilds = len([cards[c][1] for c in hands[player] if cards[c][1] == 'wild'])\n",
    "    infantries = len([cards[c][1] for c in hands[player] if cards[c][1] == 'infantry']) + wilds\n",
    "    cavalries = len([cards[c][1] for c in hands[player] if cards[c][1] == 'cavalry']) + wilds\n",
    "    cannons = len([cards[c][1] for c in hands[player] if cards[c][1] == 'cannon']) + wilds\n",
    "    bonus = 0\n",
    "\n",
    "    if infantries > 2:\n",
    "        bonus += card_value(next_exch)\n",
    "        next_exch += 1\n",
    "        for r in range(3-wilds):\n",
    "            hands[player].remove([c for c in hands[player] if cards[c][1] == 'infantry'][0])\n",
    "            infantries -= 1\n",
    "            if wilds > 0:\n",
    "                for r in range(wilds):\n",
    "                    hands[player].remove([c for c in hands[player] if cards[c][1] == 'wild'][0])\n",
    "                    wilds -= 1\n",
    "                    infantries -= 1\n",
    "                    cavalries -= 1\n",
    "                    cannons -= 1\n",
    "\n",
    "    if cavalries > 2:\n",
    "        bonus += card_value(next_exch)\n",
    "        next_exch += 1\n",
    "        for r in range(3-wilds):\n",
    "            hands[player].remove([c for c in hands[player] if cards[c][1] == 'cavalry'][0])\n",
    "            cavalries -= 1\n",
    "            if wilds > 0:\n",
    "                for r in range(wilds):\n",
    "                    hands[player].remove([c for c in hands[player] if cards[c][1] == 'wild'][0])\n",
    "                    wilds -= 1\n",
    "                    infantries -= 1\n",
    "                    cavalries -= 1\n",
    "                    cannons -= 1\n",
    "                \n",
    "    if cannons > 2:\n",
    "        bonus += card_value(next_exch)\n",
    "        next_exch += 1\n",
    "        for r in range(3-wilds):\n",
    "            hands[player].remove([c for c in hands[player] if cards[c][1] == 'cannon'][0])\n",
    "            cannons -= 1\n",
    "            if wilds > 0:\n",
    "                for r in range(wilds):\n",
    "                    hands[player].remove([c for c in hands[player] if cards[c][1] == 'wild'][0])\n",
    "                    wilds -= 1\n",
    "                    infantries -= 1\n",
    "                    cavalries -= 1\n",
    "                    cannons -= 1\n",
    "\n",
    "    if (infantries > 0 and cavalries > 0 and cannons > 0 and wilds==0):\n",
    "        bonus += card_value(next_exch)\n",
    "        next_exch += 1\n",
    "        hands[player].remove([c for c in hands[player] if cards[c][1] == 'infantry'][0])\n",
    "        hands[player].remove([c for c in hands[player] if cards[c][1] == 'cavalry'][0])\n",
    "        hands[player].remove([c for c in hands[player] if cards[c][1] == 'cannon'][0])\n",
    "        infantries -= 1\n",
    "        cavalries -= 1\n",
    "        cannons -= 1\n",
    "\n",
    "    if (infantries > 0 and cavalries > 1 and cannons > 1 and wilds==1):\n",
    "        bonus += card_value(next_exch)\n",
    "        next_exch += 1\n",
    "        hands[player].remove([c for c in hands[player] if cards[c][1] == 'wild'][0])\n",
    "        hands[player].remove([c for c in hands[player] if cards[c][1] == 'cavalry'][0])\n",
    "        hands[player].remove([c for c in hands[player] if cards[c][1] == 'cannon'][0])\n",
    "        wilds -= 1\n",
    "        infantries -= 1\n",
    "        cavalries -= 2\n",
    "        cannons -= 2\n",
    "    \n",
    "    if (infantries > 1 and cavalries > 0 and cannons > 1 and wilds==1):\n",
    "        bonus += card_value(next_exch)\n",
    "        next_exch += 1\n",
    "        hands[player].remove([c for c in hands[player] if cards[c][1] == 'wild'][0])\n",
    "        hands[player].remove([c for c in hands[player] if cards[c][1] == 'infantry'][0])\n",
    "        hands[player].remove([c for c in hands[player] if cards[c][1] == 'cannon'][0])\n",
    "        wilds -= 1\n",
    "        infantries -= 2\n",
    "        cavalries -= 1\n",
    "        cannons -= 2\n",
    "    \n",
    "    if (infantries > 1 and cavalries > 1 and cannons > 0 and wilds==1):\n",
    "        bonus += card_value(next_exch)\n",
    "        next_exch += 1\n",
    "        hands[player].remove([c for c in hands[player] if cards[c][1] == 'wild'][0])\n",
    "        hands[player].remove([c for c in hands[player] if cards[c][1] == 'infantry'][0])\n",
    "        hands[player].remove([c for c in hands[player] if cards[c][1] == 'cavalry'][0])\n",
    "        wilds -= 1\n",
    "        infantries -= 2\n",
    "        cavalries -= 2\n",
    "        cannons -= 1\n",
    "\n",
    "    return (bonus, next_exch)"
   ]
  },
  {
   "cell_type": "markdown",
   "metadata": {},
   "source": [
    "## reinforcements"
   ]
  },
  {
   "cell_type": "code",
   "execution_count": 143,
   "metadata": {},
   "outputs": [],
   "source": [
    "# takes in the player and reinforcements and places those reinforcements based on the player's strategy\n",
    "def place_reinforcements(player, reinforcements):\n",
    "    w = 2\n",
    "    \n",
    "    for troop in range(reinforcements):\n",
    "        if player[1] == 'r':\n",
    "#           randomly selects from friendly territories that border on enemy territories\n",
    "            near_border = set([item for sublist in [g_adj[x] for x in enemy_nodes(player)] for item in sublist])\n",
    "            adj_to_enemy = [x for x in near_border if x in friend_nodes(player)]\n",
    "            num = np.random.choice(adj_to_enemy)\n",
    "        if player[1] == 'd':\n",
    "#           randomly selects from most vulnerable nodes: (potential att - def)/(potential att + def)\n",
    "            vuln_list = [[x[0]] + [round((x[2] - x[1]) / (x[2] + x[1]),3)] for x in def_troop_comparison(player)]\n",
    "            s_vuln_list = sorted(vuln_list, key=lambda x: x[1], reverse=True)\n",
    "            most_vuln = [x[0] for x in s_vuln_list if x[1] == max(x[1] for x in s_vuln_list)]\n",
    "            if len(most_vuln) > 0:\n",
    "                num = np.random.choice(most_vuln)\n",
    "            else: num = np.random.choice(friend_nodes(player))\n",
    "            #             if a front territory has troops less than w, bring them up to w\n",
    "            near_border = set([item for sublist in [g_adj[x] for x in enemy_nodes(player)] for item in sublist])\n",
    "            adj_to_enemy = [x for x in near_border if x in friend_nodes(player)]\n",
    "            shuffle(adj_to_enemy)\n",
    "            for n in adj_to_enemy:\n",
    "                if G.nodes[n]['troops'] < w:\n",
    "                    num = n            \n",
    "        if player[1] == 'a':           \n",
    "#           randomly selects friendly node with least troops adj to most vulnerable enemy territory\n",
    "            e_vuln_list = [[x[0]] + [round((x[2] - x[1]) / (x[2] + x[1]),3)] for x in off_troop_comparison(player)]\n",
    "            s_e_vuln_list = sorted(e_vuln_list, key=lambda x: x[1], reverse=True)\n",
    "            e_most_vuln = [x[0] for x in s_e_vuln_list if x[1] == max(x[1] for x in s_e_vuln_list)]\n",
    "            nodes_sur_e_vuln = set([item for sublist in [g_adj[x] for x in e_most_vuln] for item in sublist])\n",
    "            f_sup_nodes = [x for x in nodes_sur_e_vuln if x in friend_nodes(player)]\n",
    "            s_f_sup_nodes = sorted([[x[0]] + [x[1]['troops']] for x in G.nodes.data() if x[0] in f_sup_nodes], \\\n",
    "                                   key=lambda x: x[1])\n",
    "            best_att_sup = [x[0] for x in s_f_sup_nodes if x[1] == min(x[1] for x in s_f_sup_nodes)]\n",
    "            if len(best_att_sup) > 0:\n",
    "                num = np.random.choice(best_att_sup)\n",
    "            else: num = np.random.choice(friend_nodes(player))\n",
    "            #             if a front territory has troops less than w, bring them up to w\n",
    "            near_border = set([item for sublist in [g_adj[x] for x in enemy_nodes(player)] for item in sublist])\n",
    "            adj_to_enemy = [x for x in near_border if x in friend_nodes(player)]\n",
    "            shuffle(adj_to_enemy)\n",
    "            for n in adj_to_enemy:\n",
    "                if G.nodes[n]['troops'] < w:\n",
    "                    num = n            \n",
    "        \n",
    "        G.nodes[num]['troops'] += 1"
   ]
  },
  {
   "cell_type": "markdown",
   "metadata": {},
   "source": [
    "## attack"
   ]
  },
  {
   "cell_type": "code",
   "execution_count": 27,
   "metadata": {},
   "outputs": [],
   "source": [
    "# helper function finding the neighbor nodes that are adjacent to the node listed and friendly to the player listed\n",
    "def sur_f_nodes(player, node):\n",
    "    sur_nodes = set([item for sublist in [g_adj[x] for x in [node]] for item in sublist])\n",
    "    return [x for x in sur_nodes if x in friend_nodes(player)]"
   ]
  },
  {
   "cell_type": "code",
   "execution_count": 28,
   "metadata": {},
   "outputs": [],
   "source": [
    "# helper function finding the neighbor nodes that are adjacent to the node listed and enemies to the player listed\n",
    "def sur_e_nodes(player, node):\n",
    "    sur_nodes = set([item for sublist in [g_adj[x] for x in [node]] for item in sublist])\n",
    "    return [x for x in sur_nodes if x in enemy_nodes(player)]"
   ]
  },
  {
   "cell_type": "code",
   "execution_count": 99,
   "metadata": {},
   "outputs": [],
   "source": [
    "# simulates an attack phase for a player that attacks when they outnumber the defender.\n",
    "def attack(player, hands):\n",
    "    \n",
    "    y = 0 #ratio of troops willing to attack with (lower is more aggressive)\n",
    "    z = 2 #surplus troops in an attack\n",
    "    \n",
    "    e_vuln_list = [[x[0]] + [round((x[2] - x[1]) / (x[2] + x[1]),3)] for x in off_troop_comparison(player)]\n",
    "    s_e_vuln_list = sorted(e_vuln_list, key=lambda x: x[1], reverse=True)\n",
    "    \n",
    "    for x in range(len(e_vuln_list)):\n",
    "        if len(s_e_vuln_list) > 0:\n",
    "# next line determines how likely the node is to be attacked\n",
    "            if s_e_vuln_list[0][1] >= y:\n",
    "#               s_e_vuln_list[0][0] is the enemy node (int) that is worth attacking (you outnumber the enemy)\n",
    "                under_attack = s_e_vuln_list[0][0]\n",
    "                def_troops = G.nodes.data()[under_attack]['troops']\n",
    "#               attacking is a list of the surrounding friendly nodes\n",
    "                attacking = sur_f_nodes(player, under_attack)\n",
    "#               sorts attacking by the number of connected enemy nodes, least to greatest\n",
    "                s_attacking = [a[0] for a in sorted([[a, len(sur_e_nodes(player,a))] for a in attacking], \\\n",
    "                                                    key=lambda x: x[1])]\n",
    "                att_force = 0\n",
    "                ter_bal_lst = []\n",
    "                for a in s_attacking:\n",
    "#                   if the node under attack is their only enemy neighbor, attack with everything\n",
    "                    if len(sur_e_nodes(player, a)) == 1:\n",
    "                        att_force += G.nodes[a]['troops'] - 1\n",
    "                        G.nodes[a]['troops'] = 1\n",
    "#                   if the node under attack is 1 of a few enemy neighbor, attack with enough to probably win\n",
    "                    else: \n",
    "                        ter_bal_lst.append(a)\n",
    "                        for trps in range(G.nodes[a]['troops']-3):\n",
    "                            if att_force < def_troops + z:\n",
    "                                G.nodes[a]['troops'] -= 1\n",
    "                                att_force += 1\n",
    "                            else: continue\n",
    "                for ft in ter_bal_lst:\n",
    "                    for trps in range(G.nodes[ft]['troops']-1):\n",
    "                        if att_force < def_troops + z:\n",
    "                            G.nodes[ft]['troops'] -= 1\n",
    "                            att_force += 1\n",
    "#               this is where the fighting happens!\n",
    "                a_surv, d_surv = attrition(att_force, def_troops)\n",
    "                if a_surv == 0:\n",
    "                    G.nodes[under_attack]['troops'] = d_surv\n",
    "                else:\n",
    "#                   defeated players cards go to their conqueror if that's their last territory\n",
    "                    if len([G.nodes[n]['player'] for n in range(42) if G.nodes[n]['player'] == \\\n",
    "                            G.nodes[under_attack]['player']]) == 1:\n",
    "                        hands[player] = hands[player] + hands[G.nodes[under_attack]['player']]\n",
    "                        hands[G.nodes[under_attack]['player']] = []\n",
    "                    G.nodes[under_attack]['player'] = player\n",
    "                    G.nodes[under_attack]['troops'] = a_surv\n",
    "                s_e_vuln_list.remove(s_e_vuln_list[0])"
   ]
  },
  {
   "cell_type": "markdown",
   "metadata": {},
   "source": [
    "## draw card if territories increase that round"
   ]
  },
  {
   "cell_type": "markdown",
   "metadata": {},
   "source": [
    "checks to see if their territories increased after their attacks and they draw a card if they did.<br>\n",
    "\n",
    "territories_bef_att = len([G.nodes[num]['player'] for num in range(42) if G.nodes[num]['player'] == turns[turn]]<br>\n",
    "attack(turns[turn])<br>\n",
    "territories_aft_att = len([G.nodes[num]['player'] for num in range(42) if G.nodes[num]['player'] == turns[turn]]<br>\n",
    "if territories_bef_att < territories_aft_att: draw_card(turns[turn], deck)"
   ]
  },
  {
   "cell_type": "markdown",
   "metadata": {},
   "source": [
    "## move troops"
   ]
  },
  {
   "cell_type": "markdown",
   "metadata": {},
   "source": [
    "## end turn"
   ]
  },
  {
   "cell_type": "markdown",
   "metadata": {},
   "source": [
    "## 5.record winner with turns and troop total"
   ]
  },
  {
   "cell_type": "markdown",
   "metadata": {},
   "source": [
    "# END OF STEPPING THROUGH THE GAME FUNCTIONS"
   ]
  },
  {
   "cell_type": "markdown",
   "metadata": {},
   "source": [
    "# GAME CLASS"
   ]
  },
  {
   "cell_type": "code",
   "execution_count": 144,
   "metadata": {},
   "outputs": [
    {
     "name": "stdout",
     "output_type": "stream",
     "text": [
      "fr3: 14\n",
      "pr1: 12\n",
      "ua2: 13\n",
      "fr3: 7\n",
      "pr1: 17\n",
      "ua2: 15\n",
      "fr3: 4\n",
      "pr1: 18\n",
      "ua2: 19\n",
      "fr3: 1\n",
      "pr1: 18\n",
      "ua2: 21\n",
      "fr3: 2\n",
      "pr1: 15\n",
      "ua2: 21\n",
      "fr3: 1\n",
      "pr1: 16\n",
      "ua2: 23\n",
      "fr3: 2\n",
      "pr1: 11\n",
      "ua2: 25\n",
      "fr3: 5\n",
      "pr1: 8\n",
      "ua2: 27\n",
      "fr3: 3\n",
      "pr1: 5\n",
      "ua2: 32\n",
      "pr1: 6\n",
      "ua2: 32\n",
      "pr1: 7\n",
      "ua2: 33\n",
      "pr1: 6\n",
      "ua2: 36\n",
      "pr1: 4\n",
      "ua2: 37\n",
      "pr1: 4\n",
      "ua2: 38\n",
      "pr1: 3\n",
      "ua2: 39\n",
      "pr1: 2\n",
      "ua2: 39\n",
      "pr1: 1\n",
      "ua2: 41\n",
      "winner ua2\n",
      "turn   55\n",
      "deck   [0, 6, 18, 24, 25, 26]\n",
      "hands  {'pr1': [], 'ua2': [13, 37, 35, 20, 36], 'fr3': []}\n",
      "sets exchanged  11\n"
     ]
    },
    {
     "data": {
      "image/png": "[encoded data removed]",
      "text/plain": [
       "<Figure size 1008x648 with 1 Axes>"
      ]
     },
     "metadata": {},
     "output_type": "display_data"
    }
   ],
   "source": [
    "class Game():\n",
    "    \n",
    "    def __init__(self, players):\n",
    "        self.players = players\n",
    "        self.test_player = players[0]\n",
    "        self.deck, self.hands = new_deck(players)\n",
    "        self.next_exch = 1\n",
    "        self.turn = roll_for_turn(players)\n",
    "        self.turns = generate_turns(players)\n",
    "        select_territories(self.turn, self.turns)\n",
    "        place_troops(self.players, self.turn, self.turns)\n",
    "        plot_game_graph()\n",
    "    \n",
    "    def play(self):\n",
    "        while len([G.nodes[n]['player'] for n in range(42) if G.nodes[n]['player'] == self.turns[self.turn]]) < 42:\n",
    "            if check_defeat(self.turns[self.turn]):\n",
    "#                 if self.turns[self.turn] == self.test_player:\n",
    "                    #the test_player has lost, zero for loss\n",
    "#                     return ([0, self.turn])\n",
    "                self.turn+=1\n",
    "                continue\n",
    "            print(f\"{self.turns[self.turn]}: {len([G.nodes[n]['player'] for n in range(42) if G.nodes[n]['player'] == self.turns[self.turn]])}\")\n",
    "#             plot_game_graph()\n",
    "#             plt.savefig(f\"game_pictures/{self.turn}.png\", format=\"PNG\")\n",
    "            territory_bonus = extra_troops(self.turns[self.turn]) + continent_bonus(self.turns[self.turn])\n",
    "            card_bonus, self.next_exch = exch_cards(self.turns[self.turn], self.next_exch, self.hands)\n",
    "            reinforcements = territory_bonus + card_bonus\n",
    "            place_reinforcements(self.turns[self.turn], reinforcements)\n",
    "            territories_bef_att = len([G.nodes[n]['player'] for n in range(42) if G.nodes[n]['player'] == self.turns[self.turn]])\n",
    "            attack(self.turns[self.turn], self.hands)\n",
    "            territories_aft_att = len([G.nodes[n]['player'] for n in range(42) if G.nodes[n]['player'] == self.turns[self.turn]])\n",
    "            if territories_bef_att < territories_aft_att: \n",
    "                self.deck = draw_card(self.turns[self.turn], self.deck, self.hands)\n",
    "            self.turn += 1\n",
    "\n",
    "# data to return: winner, turn number          \n",
    "#         return ([1, self.turn]) \n",
    "\n",
    "# for tournaments return winner as string\n",
    "#         return self.turns[self.turn]    \n",
    "    \n",
    "        print(f'winner {self.turns[self.turn]}')\n",
    "        print(f'turn   {self.turn}')\n",
    "        print(f'deck   {self.deck}')\n",
    "        print(f'hands  {self.hands}')\n",
    "        print(f'sets exchanged  {self.next_exch-1}')\n",
    "\n",
    "game1= Game(['pr1','ua2','fr3'])\n",
    "game1.next_exch\n",
    "game1.play()\n"
   ]
  },
  {
   "cell_type": "markdown",
   "metadata": {},
   "source": [
    "### Player Type Key\n",
    "territory selection: 'r' random, 'i' isolationist, 'n' network, 'c' connecter, 'u' united states, 's' south america, 'p' pacific islands, 'f' africa, 'e' europe, 'm' middle east<br>\n",
    "play style: 'r' random,'a' aggressive, 'd' defensive"
   ]
  },
  {
   "cell_type": "code",
   "execution_count": 31,
   "metadata": {},
   "outputs": [],
   "source": [
    "# generates a list of random players out of 30 different play styles\n",
    "def rando(num_pl):\n",
    "    ter_sel = ['r','i','n','c','u','s','p','f','e','m']\n",
    "    pl_styl = ['r','a','d']\n",
    "    player_list = []\n",
    "    for p in range(1,num_pl+1):\n",
    "        t = np.random.choice(ter_sel)\n",
    "        s = np.random.choice(pl_styl)\n",
    "        profile = t+s+str(p)\n",
    "        player_list.append(profile)\n",
    "    return player_list"
   ]
  },
  {
   "cell_type": "code",
   "execution_count": 32,
   "metadata": {},
   "outputs": [],
   "source": [
    "# creates a list of strings containing all the permutations of player strategies available\n",
    "def create_test_players():\n",
    "    ter_sel = ['r','i','n','c','u','s','p','f','e','m']\n",
    "    pl_styl = ['r','a','d']\n",
    "    player_list = []\n",
    "    for t in ter_sel:\n",
    "        for s in pl_styl:\n",
    "            profile = t+s+str(1)\n",
    "            player_list.append(profile)\n",
    "    return player_list"
   ]
  },
  {
   "cell_type": "code",
   "execution_count": 39,
   "metadata": {
    "scrolled": true
   },
   "outputs": [],
   "source": [
    "# simulates multiple games. the parameters are: # of games and what player strategy to test against random strategies\n",
    "def play_multiple_games(num, test_player):\n",
    "    all_games_data = []\n",
    "    i = 0\n",
    "    while i < num:\n",
    "        game = Game([test_player] + rando(5)[1:])\n",
    "        print(f'Our players: {game.players}')\n",
    "        game_data_list = game.play()\n",
    "        all_games_data.append(game_data_list)\n",
    "        i+=1\n",
    "    \n",
    "    return all_games_data\n",
    "\n",
    "# play_multiple_games(2, 'cd1')\n",
    "# play_multiple_games(2, 'na1')"
   ]
  },
  {
   "cell_type": "code",
   "execution_count": 40,
   "metadata": {},
   "outputs": [],
   "source": [
    "# takes in a list of strings as player strategies to test and the number of tests on each of those strategies\n",
    "# returns a dictionary of player strategies with a list of list of whether they won and the turn they won, or lost at\n",
    "def create_data_dict(test_players, num_tests):\n",
    "    data_dict = {}\n",
    "    for test_player in test_players:\n",
    "        data = play_multiple_games(num_tests, test_player)\n",
    "        data_dict[test_player] = data\n",
    "    \n",
    "    # data_dict will have test_player as key and list of data of games as value- {'cd1': [[0, 50], [0, 40]]}\n",
    "    return data_dict"
   ]
  },
  {
   "cell_type": "code",
   "execution_count": 41,
   "metadata": {},
   "outputs": [],
   "source": [
    "contenders = ['fr1','ir2','pr3','sr4','ur5']\n",
    "\n",
    "# makes a list of strings of the winner of each game\n",
    "def tournament(num, contenders):\n",
    "    all_games_data = []\n",
    "    i = 0\n",
    "    while i < num:\n",
    "        game = Game(contenders)\n",
    "        print(f'Our players: {game.players}')\n",
    "        game_data_list = game.play()\n",
    "        all_games_data.append(game_data_list)\n",
    "        i+=1\n",
    "    \n",
    "    return all_games_data"
   ]
  },
  {
   "cell_type": "markdown",
   "metadata": {},
   "source": [
    "# DATA GATHERING AND EXPLORATION"
   ]
  },
  {
   "cell_type": "code",
   "execution_count": 42,
   "metadata": {},
   "outputs": [],
   "source": [
    "# # Played 1000 games with these 5, but didn't save string so this block won't run with new kernal\n",
    "# print(f\"africa {round(tournament_list.count('fr1')/1000,3)}\")\n",
    "# print(f\"isolationist {round(tournament_list.count('ir2')/1000,3)}\")\n",
    "# print(f\"pacific islands {round(tournament_list.count('pr3')/1000,3)}\")\n",
    "# print(f\"south america {round(tournament_list.count('sr4')/1000,3)}\")\n",
    "# print(f\"united states {round(tournament_list.count('ur5')/1000,3)}\")"
   ]
  },
  {
   "cell_type": "code",
   "execution_count": 43,
   "metadata": {},
   "outputs": [],
   "source": [
    "# # used to create original dataframe. no longer necessary.\n",
    "# data_dict_list = [data_dict_rr,data_dict_ra,data_dict_rd,data_dict_ir,data_dict_ia,data_dict_id,data_dict_nr,\\\n",
    "#                   data_dict_na,data_dict_nd,data_dict_cr,data_dict_ca,data_dict_cd,data_dict_ur,data_dict_ua,\\\n",
    "#                   data_dict_ud,data_dict_sr,data_dict_sa,data_dict_sd,data_dict_pr,data_dict_pa,data_dict_pd,\\\n",
    "#                   data_dict_fr,data_dict_fa,data_dict_fd,data_dict_er,data_dict_ea,data_dict_ed,data_dict_mr,\\\n",
    "#                   data_dict_ma,data_dict_md]\n",
    "# behavior_list = ['rr','ra','rd','ir','ia','id','nr','na','nd','cr','ca','cd','ur','ua','ud','sr','sa','sd',\\\n",
    "#                  'pr','pa','pd','fr','fa','fd','er','ea','ed','mr','ma','md']\n",
    "\n",
    "# for ddl, b in zip(data_dict_list, behavior_list):\n",
    "#     if ddl == data_dict_rr:\n",
    "#         df = pd.DataFrame({x : [y[0] for y in ddl[x]] for x in ddl})\n",
    "#         df['rr_turns'] = pd.DataFrame({x : [y[1] for y in ddl[x]] for x in ddl})\n",
    "#     else:\n",
    "#         df[str(b) + '1'] = pd.DataFrame({x : [y[0] for y in ddl[x]] for x in ddl})\n",
    "#         df[str(b) + '_turns'] = pd.DataFrame({x : [y[1] for y in ddl[x]] for x in ddl})\n"
   ]
  },
  {
   "cell_type": "code",
   "execution_count": 44,
   "metadata": {},
   "outputs": [],
   "source": [
    "# gets summary stats for aggregated behaviors\n",
    "# bt: choose 0 or 1 for territory selection or troop placement\n",
    "# char: choose the char as a string for the behavior to analyze\n",
    "def rdl(num, length, d):\n",
    "    return round(num / length, d)\n",
    "\n",
    "def group_avg(bt,char):\n",
    "    l = 0\n",
    "    run_sum = 0\n",
    "    run_sum_wt = 0\n",
    "    run_sum_wt_std = 0\n",
    "    run_sum_lt = 0\n",
    "    run_sum_lt_std = 0\n",
    "\n",
    "    for b in behavior_list:\n",
    "        if b[bt] == char:\n",
    "            l += 1\n",
    "            run_sum += df[f'{b}1'].mean()\n",
    "            run_sum_wt += df[df[f'{b}1'] == 1][f'{b}_turns'].mean()\n",
    "            run_sum_wt_std += df[df[f'{b}1'] == 1][f'{b}_turns'].std()\n",
    "            run_sum_lt += df[df[f'{b}1'] == 0][f'{b}_turns'].mean()\n",
    "            run_sum_lt_std += df[df[f'{b}1'] == 0][f'{b}_turns'].std()\n",
    "            \n",
    "    return rdl(run_sum,l,2),rdl(run_sum_wt,l,0),rdl(run_sum_wt_std,l,0),rdl(run_sum_lt,l,0),rdl(run_sum_lt_std,l,0)\n",
    "\n",
    "# group_avg(0,'m')"
   ]
  },
  {
   "cell_type": "code",
   "execution_count": 45,
   "metadata": {},
   "outputs": [],
   "source": [
    "# # creates summary statistics for combined behaviors\n",
    "# for b in behavior_list:\n",
    "#     print(f\"{b} win per: {df[f'{b}1'].mean()}\")\n",
    "#     print(f\"{b} w turns: {round(df[df[f'{b}1'] == 1][f'{b}_turns'].mean())}\")\n",
    "#     print(f\"{b} w t std: {round(df[df[f'{b}1'] == 1][f'{b}_turns'].std())}\")\n",
    "#     print(f\"{b} l turns: {round(df[df[f'{b}1'] == 0][f'{b}_turns'].mean())}\")\n",
    "#     print(f\"{b} l t std: {round(df[df[f'{b}1'] == 0][f'{b}_turns'].std())}\\n\")"
   ]
  },
  {
   "cell_type": "code",
   "execution_count": 46,
   "metadata": {
    "scrolled": true
   },
   "outputs": [],
   "source": [
    "# tournament_list = tournament(1000, contenders)"
   ]
  },
  {
   "cell_type": "code",
   "execution_count": 47,
   "metadata": {},
   "outputs": [],
   "source": [
    "# # saving the df to a csv file in my capstone folder\n",
    "# import os\n",
    "\n",
    "# path = '/Users/tm/galvanize/capstone_three/data'\n",
    "# output_file = os.path.join(path,'five_player_sim.csv')\n",
    "\n",
    "# df.to_csv(output_file, index=False)"
   ]
  },
  {
   "cell_type": "markdown",
   "metadata": {},
   "source": [
    "## Battle Analysis"
   ]
  },
  {
   "cell_type": "code",
   "execution_count": null,
   "metadata": {},
   "outputs": [],
   "source": [
    "# shows the average number of troops per territory at the start for different number of players\n",
    "for players in range(3,7):\n",
    "    tot_trps = 50 - players * 5\n",
    "    trp_avg = tot_trps / (42/players)\n",
    "    print(f'{players} players distribute {tot_trps} troops for an avg of {round(trp_avg,1)} on each territory.')"
   ]
  },
  {
   "cell_type": "code",
   "execution_count": null,
   "metadata": {},
   "outputs": [],
   "source": [
    "# simulates default of 100k battles to get the kill ratio of the defenders for permutations of dice being rolled\n",
    "def att_casualties(att_dice,def_dice,count=100000):\n",
    "    att_casualty = 0\n",
    "    def_casualty = 0\n",
    "    \n",
    "    while count >= 1:\n",
    "        count -= 1\n",
    "        att_list = roll_and_sort(att_dice)\n",
    "        def_list = roll_and_sort(def_dice)\n",
    "        if att_dice >= 2 and def_dice >= 2:\n",
    "            if att_list[1] > def_list[1]:\n",
    "                def_casualty += 1\n",
    "            else: att_casualty += 1\n",
    "        if att_list[0] > def_list[0]:\n",
    "            def_casualty += 1\n",
    "        else: att_casualty += 1\n",
    "    return round(att_casualty/def_casualty,2)"
   ]
  },
  {
   "cell_type": "code",
   "execution_count": null,
   "metadata": {},
   "outputs": [],
   "source": [
    "# shows kill ratio of the defender for every permutation of dice rolled in the game\n",
    "for a in range(1,4):\n",
    "    for d in range(1,3):\n",
    "        print(f'{a}v{d} costs attacker {att_casualties(a,d)} troops for every defender')"
   ]
  },
  {
   "cell_type": "code",
   "execution_count": null,
   "metadata": {},
   "outputs": [],
   "source": [
    "# generates a plot of the defender's kill ratio for all permutations of dice being rolled in the game\n",
    "def plot_d_kill_ratio():\n",
    "    plt.style.use('dark_background')\n",
    "    x = range(1,4)\n",
    "    y1 = [att_casualties(_,1) for _ in x]\n",
    "    y2 = [att_casualties(_,2) for _ in x]\n",
    "\n",
    "    fig, ax = plt.subplots(figsize=(9,6))\n",
    "\n",
    "    ax.plot(x, y2, color='paleturquoise', linewidth=5, label='Defender has 2 dice')\n",
    "    ax.plot(x, y1, color='lightpink', linewidth=5, label='Defender has 1 die')\n",
    "    ax.set_xlim(0.9, 3.1)\n",
    "    ax.set_xticks([1,2,3])\n",
    "    ax.set_xlabel('Attack Dice')\n",
    "    ax.set_ylim(0, 3)\n",
    "    ax.set_yticks([0.52,0.73,0.85,1.4,1.57,2.93])\n",
    "    ax.set_ylabel('Attackers Lost per Defender Killed')\n",
    "    ax.set_title('Kill Ratio')\n",
    "    ax.legend(loc='upper right')\n",
    "    plt.axhline(y=0.52, linewidth=1, color='grey', linestyle='--')\n",
    "    plt.axhline(y=0.73, linewidth=1, color='grey', linestyle='--')\n",
    "    plt.axhline(y=0.85, linewidth=1, color='grey', linestyle='--')\n",
    "    plt.axhline(y=1.40, linewidth=1, color='grey', linestyle='--')\n",
    "    plt.axhline(y=1.57, linewidth=1, color='grey', linestyle='--')\n",
    "    plt.axhline(y=2.93, linewidth=1, color='grey', linestyle='--')\n",
    "\n",
    "    plt.tight_layout()\n",
    "    plt.show()"
   ]
  },
  {
   "cell_type": "code",
   "execution_count": null,
   "metadata": {},
   "outputs": [],
   "source": [
    "print(round(1/.52,2))\n",
    "print(round(1/.73,2))\n",
    "print(round(1/.85,2))\n",
    "print(round(1/1.4,2))\n",
    "print(round(1/1.57,2))\n",
    "print(round(1/2.93,2))"
   ]
  },
  {
   "cell_type": "code",
   "execution_count": null,
   "metadata": {},
   "outputs": [],
   "source": [
    "# generates a plot of the attacker's kill ratio for all permutations of dice being rolled in the game\n",
    "def plot_a_kill_ratio():\n",
    "    plt.style.use('dark_background')\n",
    "    x = range(1,4)\n",
    "    y1 = [1/att_casualties(_,1) for _ in x]\n",
    "    y2 = [1/att_casualties(_,2) for _ in x]\n",
    "\n",
    "    fig, ax = plt.subplots(figsize=(9,6))\n",
    "\n",
    "    ax.plot(x, y2, color='paleturquoise', linewidth=5, label='Defender has 2 dice')\n",
    "    ax.plot(x, y1, color='lightpink', linewidth=5, label='Defender has 1 die')\n",
    "    \n",
    "    ax.set_xlim(0.9, 3.1)\n",
    "    ax.set_xticks([1,2,3])\n",
    "    ax.set_xlabel('Attack Dice')\n",
    "    ax.set_ylim(0, 3)\n",
    "    ax.set_yticks([1.92,1.37,1.18,0.71,0.64,0.34])\n",
    "    ax.set_ylabel('Defenders Killed per Attackers Lost')\n",
    "    ax.set_title(\"Attacker's Kill Ratio\")\n",
    "    ax.legend(loc='upper right')\n",
    "    plt.axhline(y=1.92, linewidth=1, color='grey', linestyle='--')\n",
    "    plt.axhline(y=1.37, linewidth=1, color='grey', linestyle='--')\n",
    "    plt.axhline(y=1.18, linewidth=1, color='grey', linestyle='--')\n",
    "    plt.axhline(y=0.71, linewidth=1, color='grey', linestyle='--')\n",
    "    plt.axhline(y=0.64, linewidth=1, color='grey', linestyle='--')\n",
    "    plt.axhline(y=0.34, linewidth=1, color='grey', linestyle='--')\n",
    "\n",
    "    plt.tight_layout()\n",
    "    plt.show()"
   ]
  },
  {
   "cell_type": "code",
   "execution_count": null,
   "metadata": {
    "scrolled": false
   },
   "outputs": [],
   "source": [
    "# bar graph to plot att kill ratio\n",
    "labels = ['1 Att Die', '2 Att Dice', '3 Att Dice']\n",
    "one_ddie = [.71, 1.37, 1.92]\n",
    "two_ddice = [.34, .64, 1.18]\n",
    "\n",
    "\n",
    "x = np.arange(len(labels))  # the label locations\n",
    "width = 0.35  # the width of the bars\n",
    "\n",
    "fig, ax = plt.subplots(figsize=(12.5,8.2))\n",
    "rects1 = ax.bar(x - width/2, one_ddie, width, label='1 Def Die', color='paleturquoise')\n",
    "rects2 = ax.bar(x + width/2, two_ddice, width, label='2 Def Dice', color='lightpink')\n",
    "\n",
    "# Add some text for labels, title and custom x-axis tick labels, etc.\n",
    "ax.set_ylabel('Defenders Killed per Attacker Lost')\n",
    "ax.set_title(\"Attacker's Kill Ratio\")\n",
    "ax.set_xticks(x)\n",
    "ax.set_xticklabels(labels)\n",
    "ax.set_ylim(0, 3)\n",
    "ax.set_yticks([1.92,1.37,1.18,1,0.71,0.64,0.34])\n",
    "\n",
    "plt.axhline(y=1, linewidth=1, color='red', linestyle='--')\n",
    "\n",
    "ax.legend()\n",
    "\n",
    "\n",
    "def autolabel(rects):\n",
    "    \"\"\"Attach a text label above each bar in *rects*.\"\"\"\n",
    "    for rect in rects:\n",
    "        height = rect.get_height()\n",
    "        if height in [.71, 1.37, 1.92]:\n",
    "            ax.annotate('1 Def Die',\n",
    "                    xy=(rect.get_x() + rect.get_width() / 2, height),\n",
    "                    xytext=(0, 3),  # 3 points vertical offset\n",
    "                    textcoords=\"offset points\",\n",
    "                    ha='center', va='bottom')\n",
    "        if height in [.34, .64, 1.18]:\n",
    "            ax.annotate('2 Def Dice',\n",
    "                    xy=(rect.get_x() + rect.get_width() / 2, height),\n",
    "                    xytext=(0, 3),  # 3 points vertical offset\n",
    "                    textcoords=\"offset points\",\n",
    "                    ha='center', va='bottom')\n",
    "\n",
    "\n",
    "autolabel(rects1)\n",
    "autolabel(rects2)\n",
    "\n",
    "fig.tight_layout()\n",
    "\n",
    "plt.show()"
   ]
  },
  {
   "cell_type": "code",
   "execution_count": null,
   "metadata": {
    "scrolled": true
   },
   "outputs": [],
   "source": [
    "# helper function for plot_survivor_pdf. determines the probability distribution of survivors for the inputted odds\n",
    "def simulate_battles(attackers, defenders, sims=10000):\n",
    "    att_sur = []\n",
    "    def_sur = []\n",
    "    for _ in range(sims):\n",
    "        survivors = attrition(attackers,defenders)\n",
    "        att_sur.append(survivors[0])\n",
    "        def_sur.append(survivors[1])\n",
    "    return [att_sur, def_sur]"
   ]
  },
  {
   "cell_type": "code",
   "execution_count": null,
   "metadata": {
    "scrolled": false
   },
   "outputs": [],
   "source": [
    "# generates a bar graph showing the percent survival distribution for different attacker defender troop amounts\n",
    "def plot_survivor_pdf(attackers, defenders, sims=10000):\n",
    "    plt.style.use('dark_background')\n",
    "    att_sur = simulate_battles(attackers, defenders, sims)[0]\n",
    "    def_sur = simulate_battles(attackers, defenders, sims)[1]\n",
    "    max_sur = max(max(att_sur),max(def_sur))\n",
    "    att_ser = pd.Series(att_sur)\n",
    "    def_ser = pd.Series(def_sur)\n",
    "    \n",
    "\n",
    "    fig,ax = plt.subplots(figsize=(9,6))\n",
    "    ax.set_title(f'Survivor PDF ({attackers}att, {defenders}def)')\n",
    "    ax.set_xlabel('Survivors')\n",
    "    ax.set_ylabel('Percent')\n",
    "    ax.set_xticks(np.arange(max_sur+1))\n",
    "    ax.set_xlim(left=-1,right=max_sur+1)\n",
    "\n",
    "    ax.hist([((max_sur+1)/max_sur)*(att_ser)-.5, ((max_sur+1)/max_sur)*(def_ser)-.5], \\\n",
    "         label=['Attack Survivors', 'Defense Survivors'], \\\n",
    "         bins=max_sur+1, \\\n",
    "         weights=[np.ones(len(att_ser))/len(att_ser),np.ones(len(def_ser))/len(def_ser)], \\\n",
    "         color=['red', 'white'])\n",
    "    ax.yaxis.set_major_formatter(PercentFormatter(xmax=1))\n",
    "    ax.legend(loc='upper right')\n",
    "\n",
    "    fig.tight_layout()\n",
    "    plt.show()"
   ]
  },
  {
   "cell_type": "code",
   "execution_count": null,
   "metadata": {},
   "outputs": [],
   "source": [
    "def plot_survivor_box(attackers, defenders, sims=10000):\n",
    "    plt.style.use('seaborn-white')\n",
    "    att_sur = simulate_battles(attackers, defenders, sims)[0]\n",
    "    def_sur = simulate_battles(attackers, defenders, sims)[1]\n",
    "    fig, ax = plt.subplots()\n",
    "    ax.set_yticklabels(['Attackers','Defenders'])\n",
    "    ax.boxplot([att_sur, def_sur], vert=False)\n",
    "    plt.show()"
   ]
  },
  {
   "cell_type": "code",
   "execution_count": null,
   "metadata": {
    "scrolled": true
   },
   "outputs": [],
   "source": [
    "# box plot showing the same thing as the bar graph with a little bit less fidelity\n",
    "plot_survivor_box(12,4)"
   ]
  },
  {
   "cell_type": "code",
   "execution_count": null,
   "metadata": {
    "scrolled": false
   },
   "outputs": [],
   "source": [
    "plot_a_kill_ratio()"
   ]
  },
  {
   "cell_type": "code",
   "execution_count": null,
   "metadata": {},
   "outputs": [],
   "source": [
    "plot_d_kill_ratio()"
   ]
  },
  {
   "cell_type": "code",
   "execution_count": null,
   "metadata": {
    "scrolled": false
   },
   "outputs": [],
   "source": [
    "plot_survivor_pdf(50,50)"
   ]
  },
  {
   "cell_type": "code",
   "execution_count": null,
   "metadata": {},
   "outputs": [],
   "source": [
    "# graph references\n",
    "# list(G.nodes) --- list of all nodes\n",
    "# list(G.edges) --- list of tuples showing all edges\n",
    "# list(G.adj[4]) --- lists adjacent nodes\n",
    "# print(G.degree) --- dictionary with degree for each node\n",
    "# G.add_node(1, time='4pm') --- for adding data\n",
    "# [_ for _ in G.neighbors(3)] --- iterates over all the neighbors\n",
    "# [G.nodes[num]['player'] for num in range(42)] --- lists values for all players *****"
   ]
  }
 ],
 "metadata": {
  "kernelspec": {
   "display_name": "Python 3",
   "language": "python",
   "name": "python3"
  },
  "language_info": {
   "codemirror_mode": {
    "name": "ipython",
    "version": 3
   },
   "file_extension": ".py",
   "mimetype": "text/x-python",
   "name": "python",
   "nbconvert_exporter": "python",
   "pygments_lexer": "ipython3",
   "version": "3.8.3"
  }
 },
 "nbformat": 4,
 "nbformat_minor": 4
}
